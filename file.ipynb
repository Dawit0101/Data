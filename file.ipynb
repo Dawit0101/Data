import pandas as pd
df2 = pd.DataFrame({'A':range(1,5),'B':range(10,50,10)},index = ['a','b','c','d'])
df2
df2.loc[(df2['A']>1000) & (df2['A']<=3000),['A','A']]
df2
df2['C']='a b c d'.split(' ')
import numpy as np
import pandas as pd
np.random.seed(0)
np.random.seed(1000)
df2 = pd.DataFrame({'A':np.random.randint(1,5,5),'B':np.random.randint(10,50,5),'C':np.random.randint(50,100,5),'D':np.random.randint(100,500,5)},index = ['a','b','c','d','e'])
df2
df2.sort_index(inplace=True) #sort by index ascending order
df2

df2.sort_values(by='A', inplace=True)  # Sort by index in descending order
df2
df2.sort_values(by='A', inplace=True)   #Sort by column 'A' in ascending order
df2
df2.sort_values(by='A', ascending=False, inplace=True) #Sort by column 'A' in descending order
df2
df2.sort_values(by=['A', 'B'], ascending=[True, False], inplace=True) #multiple
df2
import pandas as pd
data =  pd.read_csv('IMDB-Movie-Data (1).csv')
data.head(5)
data.tail(4)
data.describe()
fltr = data[data['Year']>=2014]
result = fltr[['Title', 'Year']].head(10)
result
data.Title.unique
